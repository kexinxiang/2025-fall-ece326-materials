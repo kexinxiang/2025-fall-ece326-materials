{
 "cells": [
  {
   "cell_type": "markdown",
   "id": "b0d38308cd08f405",
   "metadata": {},
   "source": [
    "# Requests\n",
    "\n",
    "`requests` is a python HTTP library that allows you to send HTTP/1.1 requests."
   ]
  },
  {
   "cell_type": "code",
   "execution_count": null,
   "id": "bd8ed14fa23188b3",
   "metadata": {},
   "outputs": [],
   "source": [
    "import requests\n",
    "\n",
    "res = requests.get(\"https://google.ca\")\n",
    "print(res.status_code)\n",
    "print(res.content)"
   ]
  },
  {
   "cell_type": "markdown",
   "id": "c7dcacfffe543f6f",
   "metadata": {},
   "source": [
    "# Bottle\n",
    "\n",
    "Run the following to specify ports that `bottle` will listen from.\n",
    "\n",
    "Note:\n",
    "There is a `run` command at the end of each subsequent cell, which causes `bottle` to listen to HTTP requests indefinitely.\n",
    "As you can only have one `bottle` server (to the same port) at a time, stop the previous cells before running the next one."
   ]
  },
  {
   "cell_type": "code",
   "execution_count": null,
   "id": "5b84392eff175042",
   "metadata": {},
   "outputs": [],
   "source": [
    "PORT=8081"
   ]
  },
  {
   "cell_type": "markdown",
   "id": "f91454441fe41f43",
   "metadata": {},
   "source": [
    "## Routes\n",
    "\n",
    "The `route` decorator can be used to hook the url to the function.\n",
    "In the example below, whenever there is a `GET` request to `localhost:8081/`, `bottle` will call `home` function, and use the returned value as a response."
   ]
  },
  {
   "cell_type": "code",
   "execution_count": null,
   "id": "3e0061ca7a847dd8",
   "metadata": {},
   "outputs": [],
   "source": [
    "from bottle import run, route\n",
    "\n",
    "@route(\"/\")  # The route decorator serves as a hook for linking / to home()\n",
    "def home():\n",
    "    return '<html><body> Hello! </body></html>'\n",
    "\n",
    "run(host='localhost', port=PORT)"
   ]
  },
  {
   "cell_type": "markdown",
   "id": "6c4d6c73",
   "metadata": {},
   "source": [
    "Run the above command, and go to `localhost:8081` from a web browser, you will see a message `Hello!` on the screen."
   ]
  },
  {
   "cell_type": "markdown",
   "id": "88bea5e5",
   "metadata": {},
   "source": [
    "### Wildcards\n",
    "\n",
    "You can include wildcards as part of the route, which is of the form `<variable name>`.\n",
    "The wildcards match any (non-empty) strings.\n",
    "When the callback is used, the variable with the same name is populated with the matched string."
   ]
  },
  {
   "cell_type": "code",
   "execution_count": null,
   "id": "8f92cd98f0fa744d",
   "metadata": {},
   "outputs": [],
   "source": [
    "from bottle import run, route\n",
    "\n",
    "@route(\"/home/<name>\")  # Dynamic route, matches /home/Alice, /home/Bob, etc.\n",
    "def home2(name):\n",
    "    return f\"<html><body> Hello {name}! </body></html>\"\n",
    "\n",
    "run(host='localhost', port=PORT)"
   ]
  },
  {
   "cell_type": "markdown",
   "id": "c67046aa",
   "metadata": {},
   "source": [
    "Go to `localhost:8081/home/someone`, and you will see `Hello someone!` on the screen.\n",
    "If you go to `localhost:8081/home`, you will receive a 404 error because it **DOES NOT** match `/home/<name>`.\n",
    "\n",
    "Note:\n",
    "The variable `name` is created and used only on the server side.\n",
    "The browser only receives the interpolated string `Hello someone!`.\n",
    "You can verify by inspecting the website's source code from your web browser."
   ]
  },
  {
   "cell_type": "markdown",
   "id": "c320607b38e44906",
   "metadata": {},
   "source": [
    "### Multiple Routes with the Same Callback\n",
    "\n",
    "You can have multiple routes hooked up to the same callback.\n",
    "If the route does not have a wildcard, its default value (which must be provided) is used."
   ]
  },
  {
   "cell_type": "code",
   "execution_count": null,
   "id": "a13939bf0a4c8499",
   "metadata": {},
   "outputs": [],
   "source": [
    "from bottle import run, route\n",
    "\n",
    "@route(\"/greeting\")\n",
    "@route(\"/home2/<name>\")\n",
    "# Multiple routes can be mapped to the same callback function\n",
    "def greeting(name=\"Stranger\"):\n",
    "    return f\"<html><body> Hello {name}! </body></html>\"\n",
    "\n",
    "run(host='localhost', port=PORT)"
   ]
  },
  {
   "cell_type": "markdown",
   "id": "609c096617f9fdcb",
   "metadata": {},
   "source": [
    "### Filtered Wildcards\n",
    "\n",
    "You can filter wildcards using `<variable name:filter>`.\n",
    "The following uses an `re:` filter on wildcard `filename` so that it only matches a regex `.*\\.html`."
   ]
  },
  {
   "cell_type": "code",
   "execution_count": null,
   "id": "1bfad46e58faa857",
   "metadata": {},
   "outputs": [],
   "source": [
    "from bottle import run, route, static_file\n",
    "\n",
    "@route(\"/static/<filename:re:.*\\\\.html>\")  # regex to match any .html file\n",
    "def static(filename):\n",
    "    # Read file from the static/ subdirectory\n",
    "    return static_file(filename, root='static')\n",
    "\n",
    "run(host='localhost', port=PORT)"
   ]
  },
  {
   "cell_type": "markdown",
   "id": "3ed36526",
   "metadata": {},
   "source": [
    "If you go to `localhost:8081/static/abcd`, you will receive a 404 error because it does not match the regex specified for the `static` route.\n",
    "However, if you go to `localhost:8081/static/sample.html`, `bottle` will response with the file content in `/static/sample.html`."
   ]
  },
  {
   "cell_type": "markdown",
   "id": "c9d9fc57e0e04077",
   "metadata": {},
   "source": [
    "### Handling HTML Forms\n",
    "\n",
    "Forms can be created using `<form>` tag.\n",
    "We commonly uses `POST` or `PUT` methods for the form action (see `form` tag attribute in `static.html/static`).\n",
    "In this case, we can handle a `POST` method to `/login` (per `form` tag attributes) using `@post` decorator, as shown in `process_login`.\n",
    "\n",
    "You can use `request.forms` to retrieve the form's content."
   ]
  },
  {
   "cell_type": "code",
   "execution_count": null,
   "id": "78d4728d9d69e2e9",
   "metadata": {},
   "outputs": [],
   "source": [
    "from bottle import run, get, post, request\n",
    "\n",
    "@get(\"/login\")  # This is equivalent to @route(\"/login\")\n",
    "def login():\n",
    "    return static_file('login.html', root='static')\n",
    "\n",
    "@post(\"/login\")\n",
    "def process_login():\n",
    "    # Process the form data\n",
    "    username = request.forms.get('username')\n",
    "    password = request.forms.get('password')\n",
    "    # Echo back the username and password\n",
    "    return f\"<html><body> Hello {username}! PW:{password} </body></html>\"\n",
    "\n",
    "run(host='localhost', port=PORT)"
   ]
  },
  {
   "cell_type": "markdown",
   "id": "de3bae7d",
   "metadata": {},
   "source": [
    "Go to `localhost:8081/login`, and submit the form.\n",
    "You should see the hello message with appropriate username (and password)!\n",
    "\n",
    "Note:\n",
    "As shown here, the form includes the inputs (including password inputs) in plain text.\n",
    "Websites generally employ additional processing to ensure the inputs are sent securely."
   ]
  },
  {
   "cell_type": "markdown",
   "id": "0720bc5a",
   "metadata": {},
   "source": [
    "#### (Optional) Using `routes` to Submit a Form\n",
    "\n",
    "You can also use `requests` to submit the data to the form.\n",
    "This is equivalent to pressing login on the form earlier.\n",
    "\n",
    "Note: since this requires the previous cell to finish, you need to run bottle using `python3 tut2.py` instead of this notebook directly.\n",
    "Make sure to run the command from the the directory where `tut2.py` is in."
   ]
  },
  {
   "cell_type": "code",
   "execution_count": null,
   "id": "9cdcbad1",
   "metadata": {},
   "outputs": [],
   "source": [
    "from requests import post\n",
    "\n",
    "res = post(\"http://localhost:8081/login\", data={\"username\": \"Alice\", \"password\": \"Wonderland\"})\n",
    "print(res.status_code)\n",
    "print(res.content)"
   ]
  },
  {
   "cell_type": "markdown",
   "id": "13db514b1ddf6091",
   "metadata": {},
   "source": [
    "### Errors and Redirects\n",
    "\n",
    "You can use `abort` to return an HTML error with custom messages, and use `redirect` to redirect the website to another directory."
   ]
  },
  {
   "cell_type": "code",
   "execution_count": null,
   "id": "80b550f153c13183",
   "metadata": {},
   "outputs": [],
   "source": [
    "from bottle import run, route, abort, redirect\n",
    "\n",
    "@route(\"/restricted\")\n",
    "def restricted():\n",
    "    abort(401, \"You are not allowed to access this page.\")\n",
    "\n",
    "@route(\"/wrong\")\n",
    "def wrong():\n",
    "    redirect(\"/\")  # Go back to home page\n",
    "\n",
    "run(host='localhost', port=PORT)"
   ]
  },
  {
   "cell_type": "markdown",
   "id": "566fbbf9",
   "metadata": {},
   "source": [
    "- Go to `localhost:8081/restricted`. You should receive a 401 error (with the same message as specified in `abort`).\n",
    "- Go to `localhost:8081/wrong`. You should be redirected to `localhost:8081/`. You can verify this by checking the page address on your web browser."
   ]
  },
  {
   "cell_type": "markdown",
   "id": "a4195e90c0a2faaf",
   "metadata": {},
   "source": [
    "### Cookies\n",
    "\n",
    "You can use `request.get_cookie` and `response.set_cookie` to retrieve and assign cookies.\n",
    "By default, the cookies are per-session, meaning that they will be deleted when the browser closes."
   ]
  },
  {
   "cell_type": "code",
   "execution_count": null,
   "id": "3e34cb2bdead3c7b",
   "metadata": {},
   "outputs": [],
   "source": [
    "from bottle import run, route, request, response\n",
    "\n",
    "@route(\"/cookie\")\n",
    "def hello_cookie():\n",
    "    if request.get_cookie(\"visited\"):\n",
    "        return f\"Welcome back! Nice to see you again (cookies = {request.get_cookie(\"visited\")})\"\n",
    "    else:\n",
    "        response.set_cookie(\"visited\", \"yes\")\n",
    "        return \"Hello! Nice to meet you!\"\n",
    "\n",
    "run(host='localhost', port=PORT)"
   ]
  },
  {
   "cell_type": "markdown",
   "id": "e7eb5ffd",
   "metadata": {},
   "source": [
    "Visit `localhost:8081/cookie`, you should see *\"Hello! Nice to meet you\"*.\n",
    "If you visit `localhost:8081/cookie` again, you should now see *\"Welcome back! Nice to see you again (cookies = yes)\"*."
   ]
  },
  {
   "cell_type": "markdown",
   "id": "451a10337c9a3e4f",
   "metadata": {},
   "source": [
    "### Templates\n",
    "\n",
    "You can use templates, similar to template strings in python.\n",
    "A template in `bottle` uses `{{variable name}}` to specify the placeholder.\n",
    "You can then use `template` function to replace placeholders with appropriate values.\n",
    "\n",
    "The `template` function also accepts a file path instead of raw strings."
   ]
  },
  {
   "cell_type": "code",
   "execution_count": null,
   "id": "6032e0ceee6db2ab",
   "metadata": {},
   "outputs": [],
   "source": [
    "from bottle import run, route, template\n",
    "\n",
    "@route(\"/template\")\n",
    "def template_demo():\n",
    "    # You can pass variables as keyword arguments\n",
    "    tpl = template(\"Hello {{name}}\", name=\"World\")\n",
    "    # You can also unpack a dictionary into keyword arguments\n",
    "    dict = {\"dept\": \"ECE\", \"code\": \"ECE326\"}\n",
    "    tpl2 = template(\"Department {{dept}} Course Code:{{code}}\", **dict)\n",
    "    return tpl + '</br>' + tpl2\n",
    "\n",
    "\n",
    "@route(\"/template2\")\n",
    "def template_demo2():\n",
    "    basket_list = [\"A\", \"B\", \"C\"]\n",
    "    # You can also specify the template file directly\n",
    "    return template(\"tpl.html\", basket=basket_list)\n",
    "\n",
    "run(host='localhost', port=PORT)"
   ]
  }
 ],
 "metadata": {
  "kernelspec": {
   "display_name": ".venv",
   "language": "python",
   "name": "python3"
  },
  "language_info": {
   "codemirror_mode": {
    "name": "ipython",
    "version": 3
   },
   "file_extension": ".py",
   "mimetype": "text/x-python",
   "name": "python",
   "nbconvert_exporter": "python",
   "pygments_lexer": "ipython3",
   "version": "3.13.7"
  }
 },
 "nbformat": 4,
 "nbformat_minor": 5
}
